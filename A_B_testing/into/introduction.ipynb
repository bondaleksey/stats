{
 "cells": [
  {
   "cell_type": "markdown",
   "metadata": {},
   "source": [
    "# Questions\n",
    "\n",
    "- If you own a website: which web page design leads to the highest engagement or revenue?\n",
    "- Copywriter: which sales copy leads to the highest conversion rate?\n",
    "- If you're an online advertiser: which ad leads to the highest click-through rate or revenue?\n",
    "- Clinical researcher: which therapy or drug works best?\n",
    "- Machine Learning: which model has the best performance?"
   ]
  },
  {
   "cell_type": "code",
   "execution_count": null,
   "metadata": {},
   "outputs": [],
   "source": []
  }
 ],
 "metadata": {
  "language_info": {
   "name": "python"
  }
 },
 "nbformat": 4,
 "nbformat_minor": 2
}
